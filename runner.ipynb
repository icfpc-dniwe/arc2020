{
 "cells": [
  {
   "cell_type": "code",
   "execution_count": null,
   "metadata": {},
   "outputs": [],
   "source": [
    "import sys\n",
    "import os\n",
    "from base64 import b64decode\n",
    "from tempfile import NamedTemporaryFile"
   ]
  },
  {
   "cell_type": "code",
   "execution_count": null,
   "metadata": {},
   "outputs": [],
   "source": [
    "ZIPFILE = b64decode(\"REPLACE_WITH_ARCHIVE\")"
   ]
  },
  {
   "cell_type": "code",
   "execution_count": null,
   "metadata": {},
   "outputs": [],
   "source": [
    "with NamedTemporaryFile(prefix=\"arc2020\", suffix=\".pyz\", delete=False) as tmp:\n",
    "    try:\n",
    "        tmp.write(ZIPFILE)\n",
    "        package_path = tmp.name\n",
    "    except:\n",
    "        os.remove(tmp.name)\n",
    "        raise"
   ]
  },
  {
   "cell_type": "code",
   "execution_count": null,
   "metadata": {},
   "outputs": [],
   "source": [
    "try:\n",
    "    sys.path.append(package_path)\n",
    "    import arc2020\n",
    "    arc2020.main()\n",
    "finally:\n",
    "    try:\n",
    "        sys.path.remove(package_path)\n",
    "    except ValueError:\n",
    "        pass\n",
    "    os.remove(package_path)"
   ]
  },
  {
   "cell_type": "code",
   "execution_count": null,
   "metadata": {},
   "outputs": [],
   "source": []
  }
 ],
 "metadata": {
  "kernelspec": {
   "display_name": "Python 3",
   "language": "python",
   "name": "python3"
  },
  "language_info": {
   "codemirror_mode": {
    "name": "ipython",
    "version": 3
   },
   "file_extension": ".py",
   "mimetype": "text/x-python",
   "name": "python",
   "nbconvert_exporter": "python",
   "pygments_lexer": "ipython3",
   "version": "3.7.6"
  }
 },
 "nbformat": 4,
 "nbformat_minor": 4
}
